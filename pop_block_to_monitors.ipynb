{
 "cells": [
  {
   "cell_type": "markdown",
   "metadata": {},
   "source": [
    "Calculating distance from all populated census blocks in California (from 2010 census) to closest air pollution sensor"
   ]
  },
  {
   "cell_type": "code",
   "execution_count": 7,
   "metadata": {},
   "outputs": [],
   "source": [
    "import geopandas as gpd\n",
    "from geopandas import GeoSeries\n",
    "from shapely.geometry import Polygon, MultiPolygon\n",
    "import math\n",
    "import matplotlib.pyplot as plt\n",
    "import matplotlib\n",
    "import numpy as np\n",
    "import os\n",
    "import pandas as pd\n",
    "import pymysql\n",
    "import requests\n",
    "import sqlite3\n",
    "import zipfile\n",
    "from pandas.io import sql\n",
    "from sqlalchemy import create_engine\n",
    "import shapely\n",
    "from shapely.geometry import Polygon, Point\n",
    "import time"
   ]
  },
  {
   "cell_type": "markdown",
   "metadata": {},
   "source": [
    "# Loading census block population data"
   ]
  },
  {
   "cell_type": "code",
   "execution_count": 8,
   "metadata": {},
   "outputs": [
    {
     "name": "stdout",
     "output_type": "stream",
     "text": [
      "001\n",
      "003\n",
      "005\n",
      "007\n",
      "009\n",
      "011\n",
      "013\n",
      "015\n",
      "017\n",
      "019\n",
      "021\n",
      "023\n",
      "025\n",
      "027\n",
      "029\n",
      "031\n",
      "033\n",
      "035\n",
      "037\n",
      "039\n",
      "041\n",
      "043\n",
      "045\n",
      "047\n",
      "049\n",
      "051\n",
      "053\n",
      "055\n",
      "057\n",
      "059\n",
      "061\n",
      "063\n",
      "065\n",
      "067\n",
      "069\n",
      "071\n",
      "073\n",
      "075\n",
      "077\n",
      "079\n",
      "081\n",
      "083\n",
      "085\n",
      "087\n",
      "089\n",
      "091\n",
      "093\n",
      "095\n",
      "097\n",
      "099\n",
      "101\n",
      "103\n",
      "105\n",
      "107\n",
      "109\n",
      "111\n",
      "113\n",
      "115\n"
     ]
    }
   ],
   "source": [
    "# Create empty list for non-populated blocks, which will be filtered by GEOID to get unique codes\n",
    "nonpop_blocks = []\n",
    "all_blocks = {}\n",
    "\n",
    "# Get all county codes in CA: https://simple.wikipedia.org/wiki/List_of_counties_in_California\n",
    "# 001 - 115 by odd nums\n",
    "counties = list(map(str, np.arange(1, 117, 2)))\n",
    "counties = list(map(lambda x: str.zfill(x, 3), counties))\n",
    "\n",
    "# Get population data using the Census Decennial Summary File 1 (SF1) from 2010 because it goes down to block level\n",
    "# ACS5 has more recent population data from 2018, but only goes down to block group level\n",
    "# Find Decennial SF1 in 2010 at https://api.census.gov/data.html \n",
    "# California is state code 06\n",
    "# Must use for loop over all counties because api doesn't allow iteration over all blocks at once \n",
    "for county_code in counties: \n",
    "    print(county_code)\n",
    "    url = \"https://api.census.gov/data/2010/dec/sf1?get=NAME,group(P1)&for=block:*&in=state:06%county:\" + county_code\n",
    "    r = requests.get(url)\n",
    "\n",
    "    r.raise_for_status()\n",
    "    \n",
    "    data = r.json()\n",
    "\n",
    "    blocks = pd.DataFrame(data)\n",
    "    blocks.columns = blocks.iloc[0]\n",
    "    blocks = blocks.iloc[1:]\n",
    "    all_blocks[county_code] = blocks.copy()\n",
    "\n",
    "    # Convert total population data to integers\n",
    "    # P001001\tTotal\tTOTAL POPULATION\n",
    "    blocks['P001001'] = blocks['P001001'].apply(int)\n",
    "    \n",
    "    # Add block geoids where total population is 0 to the nonpopulated list\n",
    "    nonpop_blocks.extend(blocks[blocks['P001001'] == 0]['GEO_ID'].values.tolist())\n",
    "\n",
    "# Get rid of first '1000000US' of strings in geoid\n",
    "nonpop_blocks = pd.Series(nonpop_blocks).apply(lambda x: x[9:])"
   ]
  },
  {
   "cell_type": "code",
   "execution_count": 9,
   "metadata": {},
   "outputs": [
    {
     "data": {
      "text/html": [
       "<div>\n",
       "<style scoped>\n",
       "    .dataframe tbody tr th:only-of-type {\n",
       "        vertical-align: middle;\n",
       "    }\n",
       "\n",
       "    .dataframe tbody tr th {\n",
       "        vertical-align: top;\n",
       "    }\n",
       "\n",
       "    .dataframe thead th {\n",
       "        text-align: right;\n",
       "    }\n",
       "</style>\n",
       "<table border=\"1\" class=\"dataframe\">\n",
       "  <thead>\n",
       "    <tr style=\"text-align: right;\">\n",
       "      <th></th>\n",
       "      <th>NAME</th>\n",
       "      <th>GEO_ID</th>\n",
       "      <th>P001001</th>\n",
       "      <th>NAME</th>\n",
       "      <th>P001001ERR</th>\n",
       "      <th>state</th>\n",
       "      <th>county</th>\n",
       "      <th>tract</th>\n",
       "      <th>block</th>\n",
       "    </tr>\n",
       "  </thead>\n",
       "  <tbody>\n",
       "    <tr>\n",
       "      <th>0</th>\n",
       "      <td>Block 2007, Block Group 2, Census Tract 4077, ...</td>\n",
       "      <td>1000000US060014077002007</td>\n",
       "      <td>57</td>\n",
       "      <td>Block 2007, Block Group 2, Census Tract 4077, ...</td>\n",
       "      <td>None</td>\n",
       "      <td>06</td>\n",
       "      <td>001</td>\n",
       "      <td>407700</td>\n",
       "      <td>2007</td>\n",
       "    </tr>\n",
       "  </tbody>\n",
       "</table>\n",
       "</div>"
      ],
      "text/plain": [
       "0                                               NAME  \\\n",
       "0  Block 2007, Block Group 2, Census Tract 4077, ...   \n",
       "\n",
       "0                    GEO_ID P001001  \\\n",
       "0  1000000US060014077002007      57   \n",
       "\n",
       "0                                               NAME P001001ERR state county  \\\n",
       "0  Block 2007, Block Group 2, Census Tract 4077, ...       None    06    001   \n",
       "\n",
       "0   tract block  \n",
       "0  407700  2007  "
      ]
     },
     "execution_count": 9,
     "metadata": {},
     "output_type": "execute_result"
    }
   ],
   "source": [
    "#Concatenating information about all blocks in CA\n",
    "blocks_df = pd.concat(all_blocks.values(), ignore_index=True)\n",
    "blocks_df.head(1)"
   ]
  },
  {
   "cell_type": "code",
   "execution_count": 10,
   "metadata": {},
   "outputs": [
    {
     "data": {
      "text/html": [
       "<div>\n",
       "<style scoped>\n",
       "    .dataframe tbody tr th:only-of-type {\n",
       "        vertical-align: middle;\n",
       "    }\n",
       "\n",
       "    .dataframe tbody tr th {\n",
       "        vertical-align: top;\n",
       "    }\n",
       "\n",
       "    .dataframe thead th {\n",
       "        text-align: right;\n",
       "    }\n",
       "</style>\n",
       "<table border=\"1\" class=\"dataframe\">\n",
       "  <thead>\n",
       "    <tr style=\"text-align: right;\">\n",
       "      <th></th>\n",
       "      <th>STATEFP10</th>\n",
       "      <th>COUNTYFP10</th>\n",
       "      <th>TRACTCE10</th>\n",
       "      <th>BLOCKCE10</th>\n",
       "      <th>GEOID10</th>\n",
       "      <th>NAME10</th>\n",
       "      <th>MTFCC10</th>\n",
       "      <th>UR10</th>\n",
       "      <th>UACE10</th>\n",
       "      <th>FUNCSTAT10</th>\n",
       "      <th>ALAND10</th>\n",
       "      <th>AWATER10</th>\n",
       "      <th>INTPTLAT10</th>\n",
       "      <th>INTPTLON10</th>\n",
       "      <th>geometry</th>\n",
       "    </tr>\n",
       "  </thead>\n",
       "  <tbody>\n",
       "    <tr>\n",
       "      <th>0</th>\n",
       "      <td>06</td>\n",
       "      <td>001</td>\n",
       "      <td>410000</td>\n",
       "      <td>2024</td>\n",
       "      <td>060014100002024</td>\n",
       "      <td>Block 2024</td>\n",
       "      <td>G5040</td>\n",
       "      <td>None</td>\n",
       "      <td>None</td>\n",
       "      <td>S</td>\n",
       "      <td>1180</td>\n",
       "      <td>0</td>\n",
       "      <td>+37.7514499</td>\n",
       "      <td>-122.1244488</td>\n",
       "      <td>POLYGON ((-122.12489 37.75164, -122.12476 37.7...</td>\n",
       "    </tr>\n",
       "  </tbody>\n",
       "</table>\n",
       "</div>"
      ],
      "text/plain": [
       "  STATEFP10 COUNTYFP10 TRACTCE10 BLOCKCE10          GEOID10      NAME10  \\\n",
       "0        06        001    410000      2024  060014100002024  Block 2024   \n",
       "\n",
       "  MTFCC10  UR10 UACE10 FUNCSTAT10  ALAND10  AWATER10   INTPTLAT10  \\\n",
       "0   G5040  None   None          S     1180         0  +37.7514499   \n",
       "\n",
       "     INTPTLON10                                           geometry  \n",
       "0  -122.1244488  POLYGON ((-122.12489 37.75164, -122.12476 37.7...  "
      ]
     },
     "execution_count": 10,
     "metadata": {},
     "output_type": "execute_result"
    }
   ],
   "source": [
    "#Loading census block shapefile\n",
    "block_shapes = gpd.read_file(\"tl_2010_06_tabblock10/tl_2010_06_tabblock10.shp\")\n",
    "block_shapes.head(1)"
   ]
  },
  {
   "cell_type": "code",
   "execution_count": 12,
   "metadata": {},
   "outputs": [],
   "source": [
    "#Confirming block data and block shapefile data have same number of rows\n",
    "assert block_shapes.shape[0] == blocks_df.shape[0]"
   ]
  },
  {
   "cell_type": "code",
   "execution_count": 13,
   "metadata": {},
   "outputs": [],
   "source": [
    "#Filter out blocks with no population\n",
    "block_shapes_pop = block_shapes[~block_shapes['GEOID10'].isin(nonpop_blocks)]"
   ]
  },
  {
   "cell_type": "code",
   "execution_count": 16,
   "metadata": {},
   "outputs": [],
   "source": [
    "#Renaming block columns to be more tractable and to match with block shapefile column names\n",
    "newcols = list(blocks_df.columns[:5])\n",
    "newcols.extend(list(block_shapes_pop.columns[:4]))\n",
    "blocks_df.columns = newcols"
   ]
  },
  {
   "cell_type": "code",
   "execution_count": 17,
   "metadata": {},
   "outputs": [],
   "source": [
    "keycols = list(blocks_df.columns[5:])"
   ]
  },
  {
   "cell_type": "code",
   "execution_count": 27,
   "metadata": {},
   "outputs": [],
   "source": [
    "gpd_block = block_shapes_pop.merge(blocks_df, how='left', on=keycols)\n",
    "#gpd_block.to_file('CA_census_blocks_withPop.shp')"
   ]
  },
  {
   "cell_type": "markdown",
   "metadata": {},
   "source": [
    "# Loading Airnow coordinates"
   ]
  },
  {
   "cell_type": "code",
   "execution_count": 28,
   "metadata": {},
   "outputs": [
    {
     "data": {
      "text/html": [
       "<div>\n",
       "<style scoped>\n",
       "    .dataframe tbody tr th:only-of-type {\n",
       "        vertical-align: middle;\n",
       "    }\n",
       "\n",
       "    .dataframe tbody tr th {\n",
       "        vertical-align: top;\n",
       "    }\n",
       "\n",
       "    .dataframe thead th {\n",
       "        text-align: right;\n",
       "    }\n",
       "</style>\n",
       "<table border=\"1\" class=\"dataframe\">\n",
       "  <thead>\n",
       "    <tr style=\"text-align: right;\">\n",
       "      <th></th>\n",
       "      <th>index</th>\n",
       "      <th>SiteName</th>\n",
       "      <th>AgencyName</th>\n",
       "      <th>FullAQSCode</th>\n",
       "      <th>IntlAQSCode</th>\n",
       "      <th>geometry</th>\n",
       "    </tr>\n",
       "  </thead>\n",
       "  <tbody>\n",
       "    <tr>\n",
       "      <th>0</th>\n",
       "      <td>0</td>\n",
       "      <td>Jacobs</td>\n",
       "      <td>North Coast Unified Air Quality Management Dis...</td>\n",
       "      <td>060231004</td>\n",
       "      <td>840060231004</td>\n",
       "      <td>POINT (-124.17750 40.77694)</td>\n",
       "    </tr>\n",
       "    <tr>\n",
       "      <th>1</th>\n",
       "      <td>5</td>\n",
       "      <td>Fort Bragg High School</td>\n",
       "      <td>Mendocino County AQMD</td>\n",
       "      <td>060450010</td>\n",
       "      <td>840060450010</td>\n",
       "      <td>POINT (-123.78766 39.43734)</td>\n",
       "    </tr>\n",
       "    <tr>\n",
       "      <th>2</th>\n",
       "      <td>6</td>\n",
       "      <td>Willits Justice Center</td>\n",
       "      <td>Mendocino County AQMD</td>\n",
       "      <td>060452002</td>\n",
       "      <td>840060452002</td>\n",
       "      <td>POINT (-123.35266 39.41174)</td>\n",
       "    </tr>\n",
       "  </tbody>\n",
       "</table>\n",
       "</div>"
      ],
      "text/plain": [
       "   index                SiteName  \\\n",
       "0      0                  Jacobs   \n",
       "1      5  Fort Bragg High School   \n",
       "2      6  Willits Justice Center   \n",
       "\n",
       "                                          AgencyName FullAQSCode  \\\n",
       "0  North Coast Unified Air Quality Management Dis...   060231004   \n",
       "1                              Mendocino County AQMD   060450010   \n",
       "2                              Mendocino County AQMD   060452002   \n",
       "\n",
       "    IntlAQSCode                     geometry  \n",
       "0  840060231004  POINT (-124.17750 40.77694)  \n",
       "1  840060450010  POINT (-123.78766 39.43734)  \n",
       "2  840060452002  POINT (-123.35266 39.41174)  "
      ]
     },
     "execution_count": 28,
     "metadata": {},
     "output_type": "execute_result"
    }
   ],
   "source": [
    "airnow = gpd.read_file('airnow_ca_sensors.json')\n",
    "airnow.head(3)"
   ]
  },
  {
   "cell_type": "code",
   "execution_count": 29,
   "metadata": {},
   "outputs": [
    {
     "data": {
      "text/plain": [
       "<matplotlib.axes._subplots.AxesSubplot at 0x149c16e10>"
      ]
     },
     "execution_count": 29,
     "metadata": {},
     "output_type": "execute_result"
    },
    {
     "data": {
      "image/png": "[encoded data removed]",
      "text/plain": [
       "<Figure size 432x288 with 1 Axes>"
      ]
     },
     "metadata": {
      "needs_background": "light"
     },
     "output_type": "display_data"
    }
   ],
   "source": [
    "airnow.plot()"
   ]
  },
  {
   "cell_type": "markdown",
   "metadata": {},
   "source": [
    "# Determining distribution of distance to nearest Airnow sensor"
   ]
  },
  {
   "cell_type": "code",
   "execution_count": 30,
   "metadata": {},
   "outputs": [],
   "source": [
    "#Determining distance from centroid of each census block\n",
    "block_centroids = gpd_block.copy()\n",
    "block_centroids.geometry = gpd_block.geometry.apply(lambda x: x.centroid)"
   ]
  },
  {
   "cell_type": "code",
   "execution_count": 31,
   "metadata": {},
   "outputs": [],
   "source": [
    "#Function to assign closest point from set B to each point in set A\n",
    "#https://gis.stackexchange.com/questions/222315/geopandas-find-nearest-point-in-other-dataframe\n",
    "from scipy.spatial import cKDTree\n",
    "def ckdnearest(gdA, gdB):\n",
    "    \"\"\"Takes two geodataframes of point data. Determines closest point from\n",
    "    set B to each point in set A. Dataframes should be reindexed before being passed\n",
    "    to function to avoid errors\"\"\"\n",
    "    nA = np.array(list(gdA.geometry.apply(lambda x: (x.x, x.y))))\n",
    "    nB = np.array(list(gdB.geometry.apply(lambda x: (x.x, x.y))))\n",
    "    btree = cKDTree(nB)\n",
    "    dist, idx = btree.query(nA, k=1)\n",
    "    gdf = pd.concat(\n",
    "        [gdA.reset_index(drop=True), gdB.loc[idx, gdB.columns != 'geometry'].reset_index(drop=True),\n",
    "         pd.Series(dist, name='dist')], axis=1)\n",
    "    return gdf"
   ]
  },
  {
   "cell_type": "code",
   "execution_count": 32,
   "metadata": {},
   "outputs": [],
   "source": [
    "#Aligning block CRS to airnow CRS\n",
    "block_centroids = block_centroids.to_crs(airnow.crs)"
   ]
  },
  {
   "cell_type": "code",
   "execution_count": 33,
   "metadata": {},
   "outputs": [],
   "source": [
    "#Finding nearest airnow sensor to each block centroid\n",
    "block_centroids.reset_index(inplace=True, drop=True)\n",
    "airnow.reset_index(inplace=True, drop=True)\n",
    "\n",
    "nearestSensor = ckdnearest(block_centroids[['GEOID10','P001001','geometry']], \n",
    "           airnow[['SiteName','IntlAQSCode','geometry']])"
   ]
  },
  {
   "cell_type": "code",
   "execution_count": 34,
   "metadata": {},
   "outputs": [
    {
     "data": {
      "text/html": [
       "<div>\n",
       "<style scoped>\n",
       "    .dataframe tbody tr th:only-of-type {\n",
       "        vertical-align: middle;\n",
       "    }\n",
       "\n",
       "    .dataframe tbody tr th {\n",
       "        vertical-align: top;\n",
       "    }\n",
       "\n",
       "    .dataframe thead th {\n",
       "        text-align: right;\n",
       "    }\n",
       "</style>\n",
       "<table border=\"1\" class=\"dataframe\">\n",
       "  <thead>\n",
       "    <tr style=\"text-align: right;\">\n",
       "      <th></th>\n",
       "      <th>GEOID10</th>\n",
       "      <th>P001001</th>\n",
       "      <th>geometry_x</th>\n",
       "      <th>SiteName</th>\n",
       "      <th>IntlAQSCode</th>\n",
       "      <th>dist</th>\n",
       "      <th>geometry_y</th>\n",
       "    </tr>\n",
       "  </thead>\n",
       "  <tbody>\n",
       "    <tr>\n",
       "      <th>0</th>\n",
       "      <td>060014053012002</td>\n",
       "      <td>132</td>\n",
       "      <td>POINT (-122.25435 37.80148)</td>\n",
       "      <td>Laney College</td>\n",
       "      <td>840060010012</td>\n",
       "      <td>0.011969</td>\n",
       "      <td>POINT (-122.26338 37.79362)</td>\n",
       "    </tr>\n",
       "  </tbody>\n",
       "</table>\n",
       "</div>"
      ],
      "text/plain": [
       "           GEOID10 P001001                   geometry_x       SiteName  \\\n",
       "0  060014053012002     132  POINT (-122.25435 37.80148)  Laney College   \n",
       "\n",
       "    IntlAQSCode      dist                   geometry_y  \n",
       "0  840060010012  0.011969  POINT (-122.26338 37.79362)  "
      ]
     },
     "execution_count": 34,
     "metadata": {},
     "output_type": "execute_result"
    }
   ],
   "source": [
    "#Merging with relevant columns of airnow data to get airnow geometry in addition to block geometry\n",
    "nearestSensor = nearestSensor.merge(airnow[['IntlAQSCode','geometry']], how='left', on='IntlAQSCode')\n",
    "nearestSensor.head(1)"
   ]
  },
  {
   "cell_type": "code",
   "execution_count": 35,
   "metadata": {},
   "outputs": [],
   "source": [
    "#Creating a secondary geometry columns for the blocks (x) and the airnow sensors (y)\n",
    "#compatible with geopy's great_circle distance function, used to calculate the distance\n",
    "#between two points along the surface of the earth\n",
    "nearestSensor['geom_x'] = nearestSensor.geometry_x.apply(lambda x: (x.xy[1][0], x.xy[0][0]))\n",
    "nearestSensor['geom_y'] = nearestSensor.geometry_y.apply(lambda x: (x.xy[1][0], x.xy[0][0]))"
   ]
  },
  {
   "cell_type": "code",
   "execution_count": 36,
   "metadata": {},
   "outputs": [],
   "source": [
    "#Calculating distance between each block centroid and its closest airnow sensor\n",
    "from geopy import distance\n",
    "dists = []\n",
    "for block, sensor in zip(nearestSensor.geom_x, nearestSensor.geom_y):\n",
    "    dists.append(distance.great_circle(block, sensor).miles)\n",
    "    \n",
    "nearestSensor['dist_mi'] = dists"
   ]
  },
  {
   "cell_type": "code",
   "execution_count": 39,
   "metadata": {},
   "outputs": [
    {
     "data": {
      "text/plain": [
       "<matplotlib.axes._subplots.AxesSubplot at 0x1653ad1d0>"
      ]
     },
     "execution_count": 39,
     "metadata": {},
     "output_type": "execute_result"
    },
    {
     "data": {
      "image/png": "[encoded data removed]",
      "text/plain": [
       "<Figure size 432x288 with 1 Axes>"
      ]
     },
     "metadata": {
      "needs_background": "light"
     },
     "output_type": "display_data"
    }
   ],
   "source": [
    "#Plotting histogram of distance, weighted by block population\n",
    "nearestSensor.P001001 = nearestSensor.P001001.apply(lambda x: int(x))\n",
    "nearestSensor[\"dist_mi\"].plot(kind=\"hist\", weights=nearestSensor[\"P001001\"], bins=50)"
   ]
  },
  {
   "cell_type": "code",
   "execution_count": 40,
   "metadata": {},
   "outputs": [
    {
     "data": {
      "text/html": [
       "<div>\n",
       "<style scoped>\n",
       "    .dataframe tbody tr th:only-of-type {\n",
       "        vertical-align: middle;\n",
       "    }\n",
       "\n",
       "    .dataframe tbody tr th {\n",
       "        vertical-align: top;\n",
       "    }\n",
       "\n",
       "    .dataframe thead th {\n",
       "        text-align: right;\n",
       "    }\n",
       "</style>\n",
       "<table border=\"1\" class=\"dataframe\">\n",
       "  <thead>\n",
       "    <tr style=\"text-align: right;\">\n",
       "      <th></th>\n",
       "      <th>GEOID10</th>\n",
       "      <th>P001001</th>\n",
       "      <th>geometry_x</th>\n",
       "      <th>SiteName</th>\n",
       "      <th>IntlAQSCode</th>\n",
       "      <th>dist</th>\n",
       "      <th>geometry_y</th>\n",
       "      <th>geom_x</th>\n",
       "      <th>geom_y</th>\n",
       "      <th>dist_mi</th>\n",
       "    </tr>\n",
       "  </thead>\n",
       "  <tbody>\n",
       "    <tr>\n",
       "      <th>0</th>\n",
       "      <td>060014053012002</td>\n",
       "      <td>132</td>\n",
       "      <td>POINT (-122.25435 37.80148)</td>\n",
       "      <td>Laney College</td>\n",
       "      <td>840060010012</td>\n",
       "      <td>0.011969</td>\n",
       "      <td>POINT (-122.26338 37.79362)</td>\n",
       "      <td>(37.80148358865379, -122.25434888671525)</td>\n",
       "      <td>(37.793624, -122.263376)</td>\n",
       "      <td>0.733347</td>\n",
       "    </tr>\n",
       "  </tbody>\n",
       "</table>\n",
       "</div>"
      ],
      "text/plain": [
       "           GEOID10  P001001                   geometry_x       SiteName  \\\n",
       "0  060014053012002      132  POINT (-122.25435 37.80148)  Laney College   \n",
       "\n",
       "    IntlAQSCode      dist                   geometry_y  \\\n",
       "0  840060010012  0.011969  POINT (-122.26338 37.79362)   \n",
       "\n",
       "                                     geom_x                    geom_y  \\\n",
       "0  (37.80148358865379, -122.25434888671525)  (37.793624, -122.263376)   \n",
       "\n",
       "    dist_mi  \n",
       "0  0.733347  "
      ]
     },
     "execution_count": 40,
     "metadata": {},
     "output_type": "execute_result"
    }
   ],
   "source": [
    "nearestSensor.head(1)"
   ]
  },
  {
   "cell_type": "code",
   "execution_count": 41,
   "metadata": {},
   "outputs": [],
   "source": [
    "#Subsetting block gdf with full polygons (not centroids) to key columns and merging with \n",
    "#nearest sensor distance data\n",
    "gpd_block_sub = gpd_block[['STATEFP10','COUNTYFP10','TRACTCE10','BLOCKCE10','GEOID10','P001001','geometry']]\n",
    "output = gpd_block_sub.merge(nearestSensor[['SiteName','IntlAQSCode','dist_mi','GEOID10']], how='left', on='GEOID10')"
   ]
  },
  {
   "cell_type": "code",
   "execution_count": 148,
   "metadata": {},
   "outputs": [],
   "source": [
    "#Saving full gdf including geometry\n",
    "output.to_file('censusBlock_dist_nearestSensor.shp')\n",
    "\n",
    "#Saving essential data to upload to GEE, to eventually merge w census block data already in GEE\n",
    "to_gee = output[['GEOID10','dist_mi']]\n",
    "to_gee.columns = ['blockid10','dist_mi']\n",
    "to_gee.to_csv('dist_blockToSensor.csv', index=False)\n",
    "to_gee.head()"
   ]
  }
 ],
 "metadata": {
  "kernelspec": {
   "display_name": "Python 3.7.3 64-bit ('base': conda)",
   "language": "python",
   "name": "python37364bitbaseconda588607f9a8224136a0eb124c124b5350"
  },
  "language_info": {
   "codemirror_mode": {
    "name": "ipython",
    "version": 3
   },
   "file_extension": ".py",
   "mimetype": "text/x-python",
   "name": "python",
   "nbconvert_exporter": "python",
   "pygments_lexer": "ipython3",
   "version": "3.7.3"
  }
 },
 "nbformat": 4,
 "nbformat_minor": 4
}
